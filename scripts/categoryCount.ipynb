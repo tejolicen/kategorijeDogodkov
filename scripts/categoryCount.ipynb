{
 "metadata": {
  "language_info": {
   "codemirror_mode": {
    "name": "ipython",
    "version": 3
   },
   "file_extension": ".py",
   "mimetype": "text/x-python",
   "name": "python",
   "nbconvert_exporter": "python",
   "pygments_lexer": "ipython3",
   "version": "3.8.3-final"
  },
  "orig_nbformat": 2,
  "kernelspec": {
   "name": "python38332bit572e68d198174a259936527c4bf61889",
   "display_name": "Python 3.8.3 32-bit"
  }
 },
 "nbformat": 4,
 "nbformat_minor": 2,
 "cells": [
  {
   "cell_type": "code",
   "execution_count": 36,
   "metadata": {
    "tags": []
   },
   "outputs": [
    {
     "output_type": "stream",
     "name": "stdout",
     "text": [
      "Automatically created module for IPython interactive environment\n['art', 'causes', 'comedy', 'concert', 'dance', 'film', 'food', 'health', 'literature', 'music', 'other', 'party', 'sports', 'tasting', 'theater', 'volunteering', 'wellness']\n[[0 1 0 ... 0 0 0]\n [0 0 0 ... 0 0 0]\n [0 0 0 ... 0 0 0]\n ...\n [0 0 0 ... 0 0 0]\n [0 0 0 ... 0 0 1]\n [1 0 0 ... 0 0 0]]\n{'causes': 1, 'party': 11, 'other': 10, 'music': 9, 'concert': 3, 'volunteering': 15, 'comedy': 2, 'theater': 14, 'literature': 8, 'dance': 4, 'art': 0, 'film': 5, 'sports': 12, 'wellness': 16, 'food': 6, 'health': 7, 'tasting': 13}\nset()\n"
     ]
    }
   ],
   "source": [
    "import os\n",
    "from sklearn.datasets import make_blobs\n",
    "from sklearn.cluster import KMeans\n",
    "from sklearn.metrics import silhouette_samples, silhouette_score\n",
    "from sklearn.feature_extraction.text import TfidfVectorizer, CountVectorizer\n",
    "\n",
    "from sklearn import decomposition, cluster\n",
    "\n",
    "from sklearn.decomposition import PCA, IncrementalPCA\n",
    "from sklearn.manifold import TSNE\n",
    "import matplotlib.pyplot as plt\n",
    "import matplotlib.cm as cm\n",
    "import numpy as np\n",
    "import pandas as pd\n",
    "import polyglot\n",
    "from polyglot.text import Text, Word\n",
    "import random\n",
    "\n",
    "\n",
    "print(__doc__)\n",
    "\n",
    "__file__ = os.getcwd()\n",
    "dirname = os.path.dirname(__file__)\n",
    "input_file = os.path.join(dirname, 'scripts\\\\data\\\\dogodki100inglavnekategorije_strippedOnlySlov.csv')\n",
    "df = pd.read_csv(input_file, header = 0)\n",
    "original_headers = list(df.columns.values)\n",
    "data_kats = df['kategorije_nazivi']\n",
    "\n",
    "\n",
    "vectorizer = CountVectorizer(analyzer='word')\n",
    "X = vectorizer.fit_transform(data_kats)\n",
    "print(vectorizer.get_feature_names())\n",
    "print(X.toarray())\n",
    "print(vectorizer.vocabulary_)\n",
    "print(vectorizer.stop_words_)"
   ]
  },
  {
   "cell_type": "code",
   "execution_count": null,
   "metadata": {},
   "outputs": [],
   "source": []
  }
 ]
}