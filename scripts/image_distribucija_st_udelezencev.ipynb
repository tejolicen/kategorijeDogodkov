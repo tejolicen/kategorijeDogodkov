{
 "cells": [
  {
   "cell_type": "code",
   "execution_count": 2,
   "metadata": {},
   "outputs": [
    {
     "data": {
      "text/html": [
       "<div>\n",
       "<style scoped>\n",
       "    .dataframe tbody tr th:only-of-type {\n",
       "        vertical-align: middle;\n",
       "    }\n",
       "\n",
       "    .dataframe tbody tr th {\n",
       "        vertical-align: top;\n",
       "    }\n",
       "\n",
       "    .dataframe thead th {\n",
       "        text-align: right;\n",
       "    }\n",
       "</style>\n",
       "<table border=\"1\" class=\"dataframe\">\n",
       "  <thead>\n",
       "    <tr style=\"text-align: right;\">\n",
       "      <th></th>\n",
       "      <th>naziv</th>\n",
       "      <th>opis</th>\n",
       "      <th>datum_od</th>\n",
       "      <th>stevilo</th>\n",
       "      <th>sifra_prizorisca</th>\n",
       "      <th>kategorije_sifre</th>\n",
       "      <th>kategorije_nazivi</th>\n",
       "      <th>veselica</th>\n",
       "    </tr>\n",
       "  </thead>\n",
       "  <tbody>\n",
       "    <tr>\n",
       "      <th>0</th>\n",
       "      <td>Peter Iljič Čajkovski - Trnuljčica</td>\n",
       "      <td>Peter Iljič Čajkovski (1840–1893) je bil poleg...</td>\n",
       "      <td>2020-02-15 18:00:00</td>\n",
       "      <td>20</td>\n",
       "      <td>2.028687e+14</td>\n",
       "      <td>25</td>\n",
       "      <td>Art</td>\n",
       "      <td>0</td>\n",
       "    </tr>\n",
       "    <tr>\n",
       "      <th>1</th>\n",
       "      <td>K4 x Ambientalno: Josh Tweek (The Ghost)</td>\n",
       "      <td>Dan pred težko pričakovanim K4x4 večerom bomo ...</td>\n",
       "      <td>2020-02-20 18:00:00</td>\n",
       "      <td>281</td>\n",
       "      <td>1.267000e+14</td>\n",
       "      <td>25</td>\n",
       "      <td>Art</td>\n",
       "      <td>0</td>\n",
       "    </tr>\n",
       "    <tr>\n",
       "      <th>2</th>\n",
       "      <td>Fem. seminar: Feminizem, nacionalizem in družb...</td>\n",
       "      <td>Na predavanju bomo predstavile študijo Sare R....</td>\n",
       "      <td>2020-02-04 19:30:00</td>\n",
       "      <td>300</td>\n",
       "      <td>1.486186e+15</td>\n",
       "      <td>16,32</td>\n",
       "      <td>Kid Friendly,Causes</td>\n",
       "      <td>0</td>\n",
       "    </tr>\n",
       "    <tr>\n",
       "      <th>3</th>\n",
       "      <td>Trustova Balkanjada, torek 4.2.</td>\n",
       "      <td>Tudi med izpiti se je treba sprostiti!?\\nNa po...</td>\n",
       "      <td>2020-02-04 22:00:00</td>\n",
       "      <td>0</td>\n",
       "      <td>2.923889e+11</td>\n",
       "      <td>15</td>\n",
       "      <td>Party</td>\n",
       "      <td>0</td>\n",
       "    </tr>\n",
       "    <tr>\n",
       "      <th>4</th>\n",
       "      <td>BALKAN x TRAP Night / 21.2.2020 / Max Klub</td>\n",
       "      <td>Februarja se znova vračamo... \\n\\nV MAX Klubu ...</td>\n",
       "      <td>2020-02-21 22:00:00</td>\n",
       "      <td>501</td>\n",
       "      <td>2.346167e+14</td>\n",
       "      <td>15</td>\n",
       "      <td>Party</td>\n",
       "      <td>0</td>\n",
       "    </tr>\n",
       "  </tbody>\n",
       "</table>\n",
       "</div>"
      ],
      "text/plain": [
       "                                               naziv  \\\n",
       "0                 Peter Iljič Čajkovski - Trnuljčica   \n",
       "1           K4 x Ambientalno: Josh Tweek (The Ghost)   \n",
       "2  Fem. seminar: Feminizem, nacionalizem in družb...   \n",
       "3                    Trustova Balkanjada, torek 4.2.   \n",
       "4         BALKAN x TRAP Night / 21.2.2020 / Max Klub   \n",
       "\n",
       "                                                opis             datum_od  \\\n",
       "0  Peter Iljič Čajkovski (1840–1893) je bil poleg...  2020-02-15 18:00:00   \n",
       "1  Dan pred težko pričakovanim K4x4 večerom bomo ...  2020-02-20 18:00:00   \n",
       "2  Na predavanju bomo predstavile študijo Sare R....  2020-02-04 19:30:00   \n",
       "3  Tudi med izpiti se je treba sprostiti!?\\nNa po...  2020-02-04 22:00:00   \n",
       "4  Februarja se znova vračamo... \\n\\nV MAX Klubu ...  2020-02-21 22:00:00   \n",
       "\n",
       "   stevilo  sifra_prizorisca kategorije_sifre    kategorije_nazivi  veselica  \n",
       "0       20      2.028687e+14               25                  Art         0  \n",
       "1      281      1.267000e+14               25                  Art         0  \n",
       "2      300      1.486186e+15            16,32  Kid Friendly,Causes         0  \n",
       "3        0      2.923889e+11               15                Party         0  \n",
       "4      501      2.346167e+14               15                Party         0  "
      ]
     },
     "execution_count": 2,
     "metadata": {},
     "output_type": "execute_result"
    }
   ],
   "source": [
    "import pandas as pd\n",
    "import os\n",
    "__file__ = os.getcwd()\n",
    "dirname = os.path.dirname(__file__)\n",
    "input_file = os.path.join(dirname, 'scripts\\\\data\\\\dogodki_VSI.csv')\n",
    "df = pd.read_csv(input_file, header = 0)\n",
    "df.head()"
   ]
  },
  {
   "cell_type": "code",
   "execution_count": 3,
   "metadata": {},
   "outputs": [
    {
     "name": "stdout",
     "output_type": "stream",
     "text": [
      "250\n",
      "500\n",
      "750\n",
      "1000\n",
      "1250\n",
      "1500\n",
      "1750\n",
      "['[0, 250)', '[250, 500)', '[500, 750)', '[750, 1000)', '[1000, 1250)', '[1250, 1500)', '[1500, 1750)', '[2000, ∞)']\n"
     ]
    },
    {
     "data": {
      "image/png": "[encoded data removed]",
      "text/plain": [
       "<Figure size 648x360 with 1 Axes>"
      ]
     },
     "metadata": {
      "needs_background": "light"
     },
     "output_type": "display_data"
    }
   ],
   "source": [
    "import matplotlib.pyplot as plt\n",
    "import numpy as np\n",
    "fig, ax = plt.subplots(figsize=(9, 5))\n",
    "values = df['stevilo']\n",
    "bins = np.arange(0,2001,250)\n",
    "_, bins, patches = plt.hist(np.clip(values, bins[0], bins[-1]), bins=bins, color='#86bf91', rwidth=0.9)\n",
    "xlabels = bins[1:].astype(str)\n",
    "N_labels = len(xlabels)\n",
    "xlabelsL = [None] * N_labels\n",
    "for i in range(len(xlabels) - 1):\n",
    "    xlabelsL[i] = '[' + str(int(xlabels[i])-250) + ', '+ xlabels[i] + ')'\n",
    "    print(xlabels[i])\n",
    "xlabelsL[-1] = '[' + xlabels[-1] + ', ∞)' \n",
    "#plt.xlim([0, 2251])\n",
    "print(xlabelsL)\n",
    "plt.xticks(250 * np.arange(N_labels) + 125, rotation=20)\n",
    "ax.set_xticklabels(xlabelsL)\n",
    "plt.title('Distribucija števila udeležencev')\n",
    "plt.ylabel('Število dogodkov')\n",
    "plt.setp(patches, linewidth=0)\n",
    "plt.xlabel('Število udeležencev na dogodku')\n",
    "plt.show()"
   ]
  }
 ],
 "metadata": {
  "interpreter": {
   "hash": "33ca9d9f2b4d79b5147a0bc2130f76ebdbd21f6a0a4e4ff615cfa49eceb115cf"
  },
  "kernelspec": {
   "display_name": "Python 3.9.1 64-bit",
   "name": "python3"
  },
  "language_info": {
   "codemirror_mode": {
    "name": "ipython",
    "version": 3
   },
   "file_extension": ".py",
   "mimetype": "text/x-python",
   "name": "python",
   "nbconvert_exporter": "python",
   "pygments_lexer": "ipython3",
   "version": "3.9.1"
  }
 },
 "nbformat": 4,
 "nbformat_minor": 2
}
