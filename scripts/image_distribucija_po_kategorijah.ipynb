{
 "cells": [
  {
   "cell_type": "code",
   "execution_count": 2,
   "metadata": {},
   "outputs": [
    {
     "data": {
      "text/html": [
       "<div>\n",
       "<style scoped>\n",
       "    .dataframe tbody tr th:only-of-type {\n",
       "        vertical-align: middle;\n",
       "    }\n",
       "\n",
       "    .dataframe tbody tr th {\n",
       "        vertical-align: top;\n",
       "    }\n",
       "\n",
       "    .dataframe thead th {\n",
       "        text-align: right;\n",
       "    }\n",
       "</style>\n",
       "<table border=\"1\" class=\"dataframe\">\n",
       "  <thead>\n",
       "    <tr style=\"text-align: right;\">\n",
       "      <th></th>\n",
       "      <th>naziv</th>\n",
       "      <th>opis</th>\n",
       "      <th>datum_od</th>\n",
       "      <th>stevilo</th>\n",
       "      <th>sifra_prizorisca</th>\n",
       "      <th>kategorije_sifre</th>\n",
       "      <th>kategorije_nazivi</th>\n",
       "      <th>veselica</th>\n",
       "      <th>nazivpp</th>\n",
       "      <th>opispp</th>\n",
       "      <th>kategorije_sifre_new</th>\n",
       "      <th>kategorije_nazivi_new</th>\n",
       "    </tr>\n",
       "  </thead>\n",
       "  <tbody>\n",
       "    <tr>\n",
       "      <th>0</th>\n",
       "      <td>K4 x Ambientalno: Josh Tweek (The Ghost)</td>\n",
       "      <td>Dan pred težko pričakovanim K4x4 večerom bomo ...</td>\n",
       "      <td>2020-02-20 18:00:00</td>\n",
       "      <td>281</td>\n",
       "      <td>1.267000e+14</td>\n",
       "      <td>25</td>\n",
       "      <td>Art</td>\n",
       "      <td>0</td>\n",
       "      <td>ambientalen josh tweek ghost</td>\n",
       "      <td>dan težko pričakovan večer sezona šestič zaleb...</td>\n",
       "      <td>25</td>\n",
       "      <td>Art</td>\n",
       "    </tr>\n",
       "    <tr>\n",
       "      <th>1</th>\n",
       "      <td>Fem. seminar: Feminizem, nacionalizem in družb...</td>\n",
       "      <td>Na predavanju bomo predstavile študijo Sare R....</td>\n",
       "      <td>2020-02-04 19:30:00</td>\n",
       "      <td>300</td>\n",
       "      <td>1.486186e+15</td>\n",
       "      <td>16,32</td>\n",
       "      <td>Kid Friendly,Causes</td>\n",
       "      <td>0</td>\n",
       "      <td>fem seminar feminizem nacionalizem družben rep...</td>\n",
       "      <td>predavanje predstaviti študija sara farris nas...</td>\n",
       "      <td>32</td>\n",
       "      <td>Causes</td>\n",
       "    </tr>\n",
       "    <tr>\n",
       "      <th>2</th>\n",
       "      <td>BALKAN x TRAP Night / 21.2.2020 / Max Klub</td>\n",
       "      <td>Februarja se znova vračamo... \\n\\nV MAX Klubu ...</td>\n",
       "      <td>2020-02-21 22:00:00</td>\n",
       "      <td>501</td>\n",
       "      <td>2.346167e+14</td>\n",
       "      <td>15</td>\n",
       "      <td>Party</td>\n",
       "      <td>0</td>\n",
       "      <td>balkan trap night max klub</td>\n",
       "      <td>februar znova vračati max klub nadaljevati del...</td>\n",
       "      <td>15</td>\n",
       "      <td>Party</td>\n",
       "    </tr>\n",
       "    <tr>\n",
       "      <th>3</th>\n",
       "      <td>Na drugi strani sonca (PRESTAVLJENO!)</td>\n",
       "      <td>Vabljeni na jazz večer Na drugi strani sonca s...</td>\n",
       "      <td>2020-03-13 19:00:00</td>\n",
       "      <td>221</td>\n",
       "      <td>1.118588e+14</td>\n",
       "      <td>2</td>\n",
       "      <td>Music</td>\n",
       "      <td>0</td>\n",
       "      <td>stran sonce prestavljen</td>\n",
       "      <td>vabljen jazz večer stran sonce skupina chavesa...</td>\n",
       "      <td>2</td>\n",
       "      <td>Music</td>\n",
       "    </tr>\n",
       "    <tr>\n",
       "      <th>4</th>\n",
       "      <td>Medštudijski kongres: (R)evolucija bakterij</td>\n",
       "      <td>? Bakterije povzročijo v Evropski uniji 250000...</td>\n",
       "      <td>2020-03-07 09:00:00</td>\n",
       "      <td>1519</td>\n",
       "      <td>1.104668e+15</td>\n",
       "      <td>5</td>\n",
       "      <td>Other</td>\n",
       "      <td>0</td>\n",
       "      <td>medštudijski kongres evolucija bakterija</td>\n",
       "      <td>bakterija povzročiti evropski unija smrt leto ...</td>\n",
       "      <td>5</td>\n",
       "      <td>Other</td>\n",
       "    </tr>\n",
       "  </tbody>\n",
       "</table>\n",
       "</div>"
      ],
      "text/plain": [
       "                                               naziv  \\\n",
       "0           K4 x Ambientalno: Josh Tweek (The Ghost)   \n",
       "1  Fem. seminar: Feminizem, nacionalizem in družb...   \n",
       "2         BALKAN x TRAP Night / 21.2.2020 / Max Klub   \n",
       "3              Na drugi strani sonca (PRESTAVLJENO!)   \n",
       "4        Medštudijski kongres: (R)evolucija bakterij   \n",
       "\n",
       "                                                opis             datum_od  \\\n",
       "0  Dan pred težko pričakovanim K4x4 večerom bomo ...  2020-02-20 18:00:00   \n",
       "1  Na predavanju bomo predstavile študijo Sare R....  2020-02-04 19:30:00   \n",
       "2  Februarja se znova vračamo... \\n\\nV MAX Klubu ...  2020-02-21 22:00:00   \n",
       "3  Vabljeni na jazz večer Na drugi strani sonca s...  2020-03-13 19:00:00   \n",
       "4  ? Bakterije povzročijo v Evropski uniji 250000...  2020-03-07 09:00:00   \n",
       "\n",
       "   stevilo  sifra_prizorisca kategorije_sifre    kategorije_nazivi  veselica  \\\n",
       "0      281      1.267000e+14               25                  Art         0   \n",
       "1      300      1.486186e+15            16,32  Kid Friendly,Causes         0   \n",
       "2      501      2.346167e+14               15                Party         0   \n",
       "3      221      1.118588e+14                2                Music         0   \n",
       "4     1519      1.104668e+15                5                Other         0   \n",
       "\n",
       "                                             nazivpp  \\\n",
       "0                       ambientalen josh tweek ghost   \n",
       "1  fem seminar feminizem nacionalizem družben rep...   \n",
       "2                         balkan trap night max klub   \n",
       "3                            stran sonce prestavljen   \n",
       "4           medštudijski kongres evolucija bakterija   \n",
       "\n",
       "                                              opispp  kategorije_sifre_new  \\\n",
       "0  dan težko pričakovan večer sezona šestič zaleb...                    25   \n",
       "1  predavanje predstaviti študija sara farris nas...                    32   \n",
       "2  februar znova vračati max klub nadaljevati del...                    15   \n",
       "3  vabljen jazz večer stran sonce skupina chavesa...                     2   \n",
       "4  bakterija povzročiti evropski unija smrt leto ...                     5   \n",
       "\n",
       "  kategorije_nazivi_new  \n",
       "0                   Art  \n",
       "1                Causes  \n",
       "2                 Party  \n",
       "3                 Music  \n",
       "4                 Other  "
      ]
     },
     "execution_count": 2,
     "metadata": {},
     "output_type": "execute_result"
    }
   ],
   "source": [
    "import pandas as pd\n",
    "import os\n",
    "__file__ = os.getcwd()\n",
    "dirname = os.path.dirname(__file__)\n",
    "input_file = os.path.join(dirname, 'scripts\\\\data\\\\dogodki50_spucano_vse_kategorije.csv')\n",
    "df = pd.read_csv(input_file, header = 0)\n",
    "df.head()"
   ]
  },
  {
   "cell_type": "code",
   "execution_count": 3,
   "metadata": {
    "collapsed": true
   },
   "outputs": [],
   "source": [
    "df = df[pd.notnull(df['opispp'])]\n"
   ]
  },
  {
   "cell_type": "code",
   "execution_count": 4,
   "metadata": {},
   "outputs": [
    {
     "name": "stdout",
     "output_type": "stream",
     "text": [
      "<class 'pandas.core.frame.DataFrame'>\n",
      "Int64Index: 8010 entries, 0 to 8009\n",
      "Data columns (total 12 columns):\n",
      " #   Column                 Non-Null Count  Dtype  \n",
      "---  ------                 --------------  -----  \n",
      " 0   naziv                  8010 non-null   object \n",
      " 1   opis                   8010 non-null   object \n",
      " 2   datum_od               8010 non-null   object \n",
      " 3   stevilo                8010 non-null   int64  \n",
      " 4   sifra_prizorisca       7999 non-null   float64\n",
      " 5   kategorije_sifre       8010 non-null   object \n",
      " 6   kategorije_nazivi      8010 non-null   object \n",
      " 7   veselica               8010 non-null   int64  \n",
      " 8   nazivpp                7995 non-null   object \n",
      " 9   opispp                 8010 non-null   object \n",
      " 10  kategorije_sifre_new   8010 non-null   int64  \n",
      " 11  kategorije_nazivi_new  8010 non-null   object \n",
      "dtypes: float64(1), int64(3), object(8)\n",
      "memory usage: 813.5+ KB\n"
     ]
    }
   ],
   "source": [
    "df.info()"
   ]
  },
  {
   "cell_type": "code",
   "execution_count": 5,
   "metadata": {
    "collapsed": true
   },
   "outputs": [],
   "source": [
    "col = ['kategorije_nazivi_new', 'opispp']\n",
    "df['kategorije_nazivi_new'].replace({'Art': 'Umetnost', 'Causes': 'Dobrodelno', 'Comedy': 'Komedija', 'Food': 'Hrana', 'Health': 'Zdravje', 'Music': 'Glasba', 'Other': 'Ostalo', 'Party': 'Zabava', 'Sports': 'Šport', 'Crafts': 'Obrtništvo', 'Dance': 'Ples', 'Drinks': 'Pijača', 'Fitness': 'Fitnes', 'Literature': 'Literatura', 'Networking': 'Mreženje', 'Theater': 'Gledališče', 'Wellness': 'Velnes'}, inplace=True)\n",
    "df = df[col]"
   ]
  },
  {
   "cell_type": "code",
   "execution_count": 6,
   "metadata": {},
   "outputs": [
    {
     "data": {
      "text/plain": [
       "Index(['kategorije_nazivi_new', 'opispp'], dtype='object')"
      ]
     },
     "execution_count": 6,
     "metadata": {},
     "output_type": "execute_result"
    }
   ],
   "source": [
    "df.columns"
   ]
  },
  {
   "cell_type": "code",
   "execution_count": 7,
   "metadata": {
    "collapsed": true
   },
   "outputs": [],
   "source": [
    "df.columns = ['kategorije_nazivi_new', 'opispp']"
   ]
  },
  {
   "cell_type": "code",
   "execution_count": 8,
   "metadata": {
    "collapsed": true
   },
   "outputs": [],
   "source": [
    "df['category_id'] = df['kategorije_nazivi_new'].factorize()[0]\n",
    "from io import StringIO\n",
    "category_id_df = df[['kategorije_nazivi_new', 'category_id']].drop_duplicates().sort_values('category_id')\n",
    "category_to_id = dict(category_id_df.values)\n",
    "id_to_category = dict(category_id_df[['category_id', 'kategorije_nazivi_new']].values)"
   ]
  },
  {
   "cell_type": "code",
   "execution_count": 9,
   "metadata": {},
   "outputs": [
    {
     "data": {
      "text/html": [
       "<div>\n",
       "<style scoped>\n",
       "    .dataframe tbody tr th:only-of-type {\n",
       "        vertical-align: middle;\n",
       "    }\n",
       "\n",
       "    .dataframe tbody tr th {\n",
       "        vertical-align: top;\n",
       "    }\n",
       "\n",
       "    .dataframe thead th {\n",
       "        text-align: right;\n",
       "    }\n",
       "</style>\n",
       "<table border=\"1\" class=\"dataframe\">\n",
       "  <thead>\n",
       "    <tr style=\"text-align: right;\">\n",
       "      <th></th>\n",
       "      <th>kategorije_nazivi_new</th>\n",
       "      <th>opispp</th>\n",
       "      <th>category_id</th>\n",
       "    </tr>\n",
       "  </thead>\n",
       "  <tbody>\n",
       "    <tr>\n",
       "      <th>0</th>\n",
       "      <td>Umetnost</td>\n",
       "      <td>dan težko pričakovan večer sezona šestič zaleb...</td>\n",
       "      <td>0</td>\n",
       "    </tr>\n",
       "    <tr>\n",
       "      <th>1</th>\n",
       "      <td>Dobrodelno</td>\n",
       "      <td>predavanje predstaviti študija sara farris nas...</td>\n",
       "      <td>1</td>\n",
       "    </tr>\n",
       "    <tr>\n",
       "      <th>2</th>\n",
       "      <td>Zabava</td>\n",
       "      <td>februar znova vračati max klub nadaljevati del...</td>\n",
       "      <td>2</td>\n",
       "    </tr>\n",
       "    <tr>\n",
       "      <th>3</th>\n",
       "      <td>Glasba</td>\n",
       "      <td>vabljen jazz večer stran sonce skupina chavesa...</td>\n",
       "      <td>3</td>\n",
       "    </tr>\n",
       "    <tr>\n",
       "      <th>4</th>\n",
       "      <td>Ostalo</td>\n",
       "      <td>bakterija povzročiti evropski unija smrt leto ...</td>\n",
       "      <td>4</td>\n",
       "    </tr>\n",
       "  </tbody>\n",
       "</table>\n",
       "</div>"
      ],
      "text/plain": [
       "  kategorije_nazivi_new                                             opispp  \\\n",
       "0              Umetnost  dan težko pričakovan večer sezona šestič zaleb...   \n",
       "1            Dobrodelno  predavanje predstaviti študija sara farris nas...   \n",
       "2                Zabava  februar znova vračati max klub nadaljevati del...   \n",
       "3                Glasba  vabljen jazz večer stran sonce skupina chavesa...   \n",
       "4                Ostalo  bakterija povzročiti evropski unija smrt leto ...   \n",
       "\n",
       "   category_id  \n",
       "0            0  \n",
       "1            1  \n",
       "2            2  \n",
       "3            3  \n",
       "4            4  "
      ]
     },
     "execution_count": 9,
     "metadata": {},
     "output_type": "execute_result"
    }
   ],
   "source": [
    "df.head()"
   ]
  },
  {
   "cell_type": "code",
   "execution_count": 10,
   "metadata": {},
   "outputs": [
    {
     "data": {
      "image/png": "[encoded data removed]",
      "text/plain": [
       "<Figure size 576x432 with 1 Axes>"
      ]
     },
     "metadata": {
      "needs_background": "light"
     },
     "output_type": "display_data"
    }
   ],
   "source": [
    "import matplotlib.pyplot as plt\n",
    "fig = plt.figure(figsize=(8,6))\n",
    "df.groupby('kategorije_nazivi_new').opispp.count().sort_values(ascending=False).plot.bar(ylim=0,)\n",
    "plt.ylabel('Št. dogodkov')\n",
    "plt.xlabel('Kategorije')\n",
    "plt.show()"
   ]
  }
 ],
 "metadata": {
  "interpreter": {
   "hash": "33ca9d9f2b4d79b5147a0bc2130f76ebdbd21f6a0a4e4ff615cfa49eceb115cf"
  },
  "kernelspec": {
   "display_name": "Python 3.9.1 64-bit",
   "name": "python3"
  },
  "language_info": {
   "codemirror_mode": {
    "name": "ipython",
    "version": 3
   },
   "file_extension": ".py",
   "mimetype": "text/x-python",
   "name": "python",
   "nbconvert_exporter": "python",
   "pygments_lexer": "ipython3",
   "version": "3.9.1"
  }
 },
 "nbformat": 4,
 "nbformat_minor": 2
}
