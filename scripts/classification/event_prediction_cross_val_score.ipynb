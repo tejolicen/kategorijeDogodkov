{
 "cells": [
  {
   "cell_type": "code",
   "execution_count": 1,
   "metadata": {},
   "outputs": [
    {
     "data": {
      "text/html": [
       "<div>\n",
       "<style scoped>\n",
       "    .dataframe tbody tr th:only-of-type {\n",
       "        vertical-align: middle;\n",
       "    }\n",
       "\n",
       "    .dataframe tbody tr th {\n",
       "        vertical-align: top;\n",
       "    }\n",
       "\n",
       "    .dataframe thead th {\n",
       "        text-align: right;\n",
       "    }\n",
       "</style>\n",
       "<table border=\"1\" class=\"dataframe\">\n",
       "  <thead>\n",
       "    <tr style=\"text-align: right;\">\n",
       "      <th></th>\n",
       "      <th>naziv</th>\n",
       "      <th>opis</th>\n",
       "      <th>datum_od</th>\n",
       "      <th>stevilo</th>\n",
       "      <th>sifra_prizorisca</th>\n",
       "      <th>kategorije_sifre</th>\n",
       "      <th>kategorije_nazivi</th>\n",
       "      <th>veselica</th>\n",
       "      <th>nazivpp</th>\n",
       "      <th>opispp</th>\n",
       "      <th>kategorije_sifre_new</th>\n",
       "      <th>kategorije_nazivi_new</th>\n",
       "      <th>is_veselica_prediction</th>\n",
       "      <th>is_veselica_prediction_score</th>\n",
       "      <th>veselicaNew</th>\n",
       "    </tr>\n",
       "  </thead>\n",
       "  <tbody>\n",
       "    <tr>\n",
       "      <th>5157</th>\n",
       "      <td>TrNOVfest - KiNG FOO &amp; Metalsteel</td>\n",
       "      <td>trNOVfest, četrtek, 22. avgust\\n\\nKiNG FOO &amp; M...</td>\n",
       "      <td>2019-08-22 18:00:00</td>\n",
       "      <td>325</td>\n",
       "      <td>7.178823e+14</td>\n",
       "      <td>2,6,51</td>\n",
       "      <td>Music,Concert,Music festival</td>\n",
       "      <td>0</td>\n",
       "      <td>trnovfest king foa metalsteeti</td>\n",
       "      <td>trnovfest četrtek avgust king foa metalsteeti ...</td>\n",
       "      <td>2</td>\n",
       "      <td>Music</td>\n",
       "      <td>-1</td>\n",
       "      <td>44.943543</td>\n",
       "      <td>0</td>\n",
       "    </tr>\n",
       "    <tr>\n",
       "      <th>235</th>\n",
       "      <td>Vesela pohorska sobota</td>\n",
       "      <td>Na ZPM Maribor v Tednu otroka® že tradicionaln...</td>\n",
       "      <td>2019-10-12 12:00:00</td>\n",
       "      <td>95</td>\n",
       "      <td>5.418738e+14</td>\n",
       "      <td>4,16,32</td>\n",
       "      <td>Volunteering,Kid Friendly,Causes</td>\n",
       "      <td>0</td>\n",
       "      <td>vesel pohorski sobota</td>\n",
       "      <td>maribor teden tradicionalno zaključevati polet...</td>\n",
       "      <td>32</td>\n",
       "      <td>Causes</td>\n",
       "      <td>-1</td>\n",
       "      <td>44.945033</td>\n",
       "      <td>0</td>\n",
       "    </tr>\n",
       "    <tr>\n",
       "      <th>3980</th>\n",
       "      <td>Josip A Lisac + Ogenj</td>\n",
       "      <td>Josip A Lisac (JAL) so nastali leta 2009 v Nov...</td>\n",
       "      <td>2019-09-06 21:00:00</td>\n",
       "      <td>60</td>\n",
       "      <td>9.594483e+14</td>\n",
       "      <td>2</td>\n",
       "      <td>Music</td>\n",
       "      <td>0</td>\n",
       "      <td>josip lisac ogenj</td>\n",
       "      <td>josip lisac jati nastati leto nov sad pobuda p...</td>\n",
       "      <td>2</td>\n",
       "      <td>Music</td>\n",
       "      <td>-1</td>\n",
       "      <td>44.943756</td>\n",
       "      <td>0</td>\n",
       "    </tr>\n",
       "    <tr>\n",
       "      <th>5192</th>\n",
       "      <td>Leja Jurišić in Milko Lazar: De facto (pojdi s...</td>\n",
       "      <td>»Moje telo se nehote pogovarja z njegovo glasb...</td>\n",
       "      <td>2019-11-07 20:00:00</td>\n",
       "      <td>61</td>\n",
       "      <td>2.651669e+14</td>\n",
       "      <td>12,22,38,94</td>\n",
       "      <td>Dancing,Classical music,Dance,Drama (theater)</td>\n",
       "      <td>0</td>\n",
       "      <td>lej jurišić milka lazar dejati fact iti</td>\n",
       "      <td>telo nehote pogovarjati glasba grobost razmerj...</td>\n",
       "      <td>15</td>\n",
       "      <td>Party</td>\n",
       "      <td>-1</td>\n",
       "      <td>44.943535</td>\n",
       "      <td>0</td>\n",
       "    </tr>\n",
       "    <tr>\n",
       "      <th>7935</th>\n",
       "      <td>Za žur bosta poskrbeli skupina Ljubavnici in I...</td>\n",
       "      <td>Predprodaja vstopnic:\\n\\n• Trgovina Marija, Mo...</td>\n",
       "      <td>2019-10-05 21:30:00</td>\n",
       "      <td>848</td>\n",
       "      <td>1.290024e+14</td>\n",
       "      <td>15</td>\n",
       "      <td>Party</td>\n",
       "      <td>0</td>\n",
       "      <td>žur poskrbeti skupina ljubavnica inesa erbus</td>\n",
       "      <td>predprodaja vstopnica trgovina marija most kom...</td>\n",
       "      <td>15</td>\n",
       "      <td>Party</td>\n",
       "      <td>-1</td>\n",
       "      <td>44.942522</td>\n",
       "      <td>0</td>\n",
       "    </tr>\n",
       "  </tbody>\n",
       "</table>\n",
       "</div>"
      ],
      "text/plain": [
       "                                                  naziv  \\\n",
       "5157                  TrNOVfest - KiNG FOO & Metalsteel   \n",
       "235                              Vesela pohorska sobota   \n",
       "3980                              Josip A Lisac + Ogenj   \n",
       "5192  Leja Jurišić in Milko Lazar: De facto (pojdi s...   \n",
       "7935  Za žur bosta poskrbeli skupina Ljubavnici in I...   \n",
       "\n",
       "                                                   opis             datum_od  \\\n",
       "5157  trNOVfest, četrtek, 22. avgust\\n\\nKiNG FOO & M...  2019-08-22 18:00:00   \n",
       "235   Na ZPM Maribor v Tednu otroka® že tradicionaln...  2019-10-12 12:00:00   \n",
       "3980  Josip A Lisac (JAL) so nastali leta 2009 v Nov...  2019-09-06 21:00:00   \n",
       "5192  »Moje telo se nehote pogovarja z njegovo glasb...  2019-11-07 20:00:00   \n",
       "7935  Predprodaja vstopnic:\\n\\n• Trgovina Marija, Mo...  2019-10-05 21:30:00   \n",
       "\n",
       "      stevilo  sifra_prizorisca kategorije_sifre  \\\n",
       "5157      325      7.178823e+14           2,6,51   \n",
       "235        95      5.418738e+14          4,16,32   \n",
       "3980       60      9.594483e+14                2   \n",
       "5192       61      2.651669e+14      12,22,38,94   \n",
       "7935      848      1.290024e+14               15   \n",
       "\n",
       "                                  kategorije_nazivi  veselica  \\\n",
       "5157                   Music,Concert,Music festival         0   \n",
       "235                Volunteering,Kid Friendly,Causes         0   \n",
       "3980                                          Music         0   \n",
       "5192  Dancing,Classical music,Dance,Drama (theater)         0   \n",
       "7935                                          Party         0   \n",
       "\n",
       "                                           nazivpp  \\\n",
       "5157                trnovfest king foa metalsteeti   \n",
       "235                          vesel pohorski sobota   \n",
       "3980                             josip lisac ogenj   \n",
       "5192       lej jurišić milka lazar dejati fact iti   \n",
       "7935  žur poskrbeti skupina ljubavnica inesa erbus   \n",
       "\n",
       "                                                 opispp  kategorije_sifre_new  \\\n",
       "5157  trnovfest četrtek avgust king foa metalsteeti ...                     2   \n",
       "235   maribor teden tradicionalno zaključevati polet...                    32   \n",
       "3980  josip lisac jati nastati leto nov sad pobuda p...                     2   \n",
       "5192  telo nehote pogovarjati glasba grobost razmerj...                    15   \n",
       "7935  predprodaja vstopnica trgovina marija most kom...                    15   \n",
       "\n",
       "     kategorije_nazivi_new  is_veselica_prediction  \\\n",
       "5157                 Music                      -1   \n",
       "235                 Causes                      -1   \n",
       "3980                 Music                      -1   \n",
       "5192                 Party                      -1   \n",
       "7935                 Party                      -1   \n",
       "\n",
       "      is_veselica_prediction_score  veselicaNew  \n",
       "5157                     44.943543            0  \n",
       "235                      44.945033            0  \n",
       "3980                     44.943756            0  \n",
       "5192                     44.943535            0  \n",
       "7935                     44.942522            0  "
      ]
     },
     "execution_count": 1,
     "metadata": {},
     "output_type": "execute_result"
    }
   ],
   "source": [
    "import pandas as pd\n",
    "import os\n",
    "__file__ = os.getcwd()\n",
    "dirname = os.path.dirname(__file__)\n",
    "input_file = os.path.join(dirname, 'data\\\\dogodki50_spucano_glavnekategorije_veselice.csv')\n",
    "df = pd.read_csv(input_file, header = 0)\n",
    "\n",
    "df = df.sample(n=2000, replace=True, random_state=1) \n",
    "df.head()"
   ]
  },
  {
   "cell_type": "code",
   "execution_count": 2,
   "metadata": {
    "collapsed": true
   },
   "outputs": [],
   "source": [
    "df = df[pd.notnull(df['opispp'])]\n"
   ]
  },
  {
   "cell_type": "code",
   "execution_count": 3,
   "metadata": {},
   "outputs": [
    {
     "name": "stdout",
     "output_type": "stream",
     "text": [
      "<class 'pandas.core.frame.DataFrame'>\n",
      "Int64Index: 2000 entries, 5157 to 1274\n",
      "Data columns (total 15 columns):\n",
      " #   Column                        Non-Null Count  Dtype  \n",
      "---  ------                        --------------  -----  \n",
      " 0   naziv                         2000 non-null   object \n",
      " 1   opis                          2000 non-null   object \n",
      " 2   datum_od                      2000 non-null   object \n",
      " 3   stevilo                       2000 non-null   int64  \n",
      " 4   sifra_prizorisca              1996 non-null   float64\n",
      " 5   kategorije_sifre              2000 non-null   object \n",
      " 6   kategorije_nazivi             2000 non-null   object \n",
      " 7   veselica                      2000 non-null   int64  \n",
      " 8   nazivpp                       1998 non-null   object \n",
      " 9   opispp                        2000 non-null   object \n",
      " 10  kategorije_sifre_new          2000 non-null   int64  \n",
      " 11  kategorije_nazivi_new         2000 non-null   object \n",
      " 12  is_veselica_prediction        2000 non-null   int64  \n",
      " 13  is_veselica_prediction_score  2000 non-null   float64\n",
      " 14  veselicaNew                   2000 non-null   int64  \n",
      "dtypes: float64(2), int64(5), object(8)\n",
      "memory usage: 250.0+ KB\n"
     ]
    }
   ],
   "source": [
    "df.info()"
   ]
  },
  {
   "cell_type": "code",
   "execution_count": 4,
   "metadata": {
    "collapsed": true
   },
   "outputs": [],
   "source": [
    "col = ['kategorije_nazivi_new', 'opispp']\n",
    "df['kategorije_nazivi_new'].replace({'Art': 'Umetnost', 'Causes': 'Dobrodelno', 'Comedy': 'Komedija', 'Food': 'Hrana', 'Health': 'Zdravje', 'Music': 'Glasba', 'Other': 'Ostalo', 'Party': 'Zabava', 'Sports': 'Šport'}, inplace=True)\n",
    "df = df[col]"
   ]
  },
  {
   "cell_type": "code",
   "execution_count": 5,
   "metadata": {},
   "outputs": [
    {
     "data": {
      "text/plain": [
       "Index(['kategorije_nazivi_new', 'opispp'], dtype='object')"
      ]
     },
     "execution_count": 5,
     "metadata": {},
     "output_type": "execute_result"
    }
   ],
   "source": [
    "df.columns"
   ]
  },
  {
   "cell_type": "code",
   "execution_count": 6,
   "metadata": {
    "collapsed": true
   },
   "outputs": [],
   "source": [
    "df.columns = ['kategorije_nazivi_new', 'opispp']"
   ]
  },
  {
   "cell_type": "code",
   "execution_count": 7,
   "metadata": {
    "collapsed": true
   },
   "outputs": [],
   "source": [
    "df['category_id'] = df['kategorije_nazivi_new'].factorize()[0]\n",
    "from io import StringIO\n",
    "category_id_df = df[['kategorije_nazivi_new', 'category_id']].drop_duplicates().sort_values('category_id')\n",
    "category_to_id = dict(category_id_df.values)\n",
    "id_to_category = dict(category_id_df[['category_id', 'kategorije_nazivi_new']].values)"
   ]
  },
  {
   "cell_type": "code",
   "execution_count": 8,
   "metadata": {},
   "outputs": [
    {
     "data": {
      "text/html": [
       "<div>\n",
       "<style scoped>\n",
       "    .dataframe tbody tr th:only-of-type {\n",
       "        vertical-align: middle;\n",
       "    }\n",
       "\n",
       "    .dataframe tbody tr th {\n",
       "        vertical-align: top;\n",
       "    }\n",
       "\n",
       "    .dataframe thead th {\n",
       "        text-align: right;\n",
       "    }\n",
       "</style>\n",
       "<table border=\"1\" class=\"dataframe\">\n",
       "  <thead>\n",
       "    <tr style=\"text-align: right;\">\n",
       "      <th></th>\n",
       "      <th>kategorije_nazivi_new</th>\n",
       "      <th>opispp</th>\n",
       "      <th>category_id</th>\n",
       "    </tr>\n",
       "  </thead>\n",
       "  <tbody>\n",
       "    <tr>\n",
       "      <th>5157</th>\n",
       "      <td>Glasba</td>\n",
       "      <td>trnovfest četrtek avgust king foa metalsteeti ...</td>\n",
       "      <td>0</td>\n",
       "    </tr>\n",
       "    <tr>\n",
       "      <th>235</th>\n",
       "      <td>Dobrodelno</td>\n",
       "      <td>maribor teden tradicionalno zaključevati polet...</td>\n",
       "      <td>1</td>\n",
       "    </tr>\n",
       "    <tr>\n",
       "      <th>3980</th>\n",
       "      <td>Glasba</td>\n",
       "      <td>josip lisac jati nastati leto nov sad pobuda p...</td>\n",
       "      <td>0</td>\n",
       "    </tr>\n",
       "    <tr>\n",
       "      <th>5192</th>\n",
       "      <td>Zabava</td>\n",
       "      <td>telo nehote pogovarjati glasba grobost razmerj...</td>\n",
       "      <td>2</td>\n",
       "    </tr>\n",
       "    <tr>\n",
       "      <th>7935</th>\n",
       "      <td>Zabava</td>\n",
       "      <td>predprodaja vstopnica trgovina marija most kom...</td>\n",
       "      <td>2</td>\n",
       "    </tr>\n",
       "  </tbody>\n",
       "</table>\n",
       "</div>"
      ],
      "text/plain": [
       "     kategorije_nazivi_new                                             opispp  \\\n",
       "5157                Glasba  trnovfest četrtek avgust king foa metalsteeti ...   \n",
       "235             Dobrodelno  maribor teden tradicionalno zaključevati polet...   \n",
       "3980                Glasba  josip lisac jati nastati leto nov sad pobuda p...   \n",
       "5192                Zabava  telo nehote pogovarjati glasba grobost razmerj...   \n",
       "7935                Zabava  predprodaja vstopnica trgovina marija most kom...   \n",
       "\n",
       "      category_id  \n",
       "5157            0  \n",
       "235             1  \n",
       "3980            0  \n",
       "5192            2  \n",
       "7935            2  "
      ]
     },
     "execution_count": 8,
     "metadata": {},
     "output_type": "execute_result"
    }
   ],
   "source": [
    "df.head()"
   ]
  },
  {
   "cell_type": "code",
   "execution_count": 9,
   "metadata": {},
   "outputs": [
    {
     "data": {
      "image/png": "[encoded data removed]",
      "text/plain": [
       "<Figure size 576x432 with 1 Axes>"
      ]
     },
     "metadata": {
      "needs_background": "light"
     },
     "output_type": "display_data"
    }
   ],
   "source": [
    "import matplotlib.pyplot as plt\n",
    "fig = plt.figure(figsize=(8,6))\n",
    "df.groupby('kategorije_nazivi_new').opispp.count().sort_values(ascending=False).plot.bar(ylim=0,)\n",
    "plt.ylabel('Št. dogodkov')\n",
    "plt.xlabel('Kategorije')\n",
    "plt.show()"
   ]
  },
  {
   "cell_type": "code",
   "execution_count": 10,
   "metadata": {},
   "outputs": [
    {
     "data": {
      "text/plain": [
       "(2000, 13377)"
      ]
     },
     "execution_count": 10,
     "metadata": {},
     "output_type": "execute_result"
    }
   ],
   "source": [
    "from sklearn.feature_extraction.text import TfidfVectorizer\n",
    "\n",
    "#tfidf = TfidfVectorizer(sublinear_tf=True, max_df=0.95, min_df=4, ngram_range=(1, 2), norm='l2')\n",
    "tfidf = TfidfVectorizer(use_idf=True, max_df=0.95, min_df=2)  \n",
    "\n",
    "features = tfidf.fit_transform(df.opispp).toarray()\n",
    "labels = df.category_id\n",
    "features.shape"
   ]
  },
  {
   "cell_type": "code",
   "execution_count": 11,
   "metadata": {
    "scrolled": false
   },
   "outputs": [
    {
     "name": "stdout",
     "output_type": "stream",
     "text": [
      "# 'Dobrodelno':\n",
      "  . Most correlated unigrams:\n",
      "       . ptica\n",
      "       . lgbtqia\n",
      "  . Most correlated bigrams:\n",
      "       . \n",
      "# 'Film':\n",
      "  . Most correlated unigrams:\n",
      "       . predstava\n",
      "       . film\n",
      "  . Most correlated bigrams:\n",
      "       . \n",
      "# 'Glasba':\n",
      "  . Most correlated unigrams:\n",
      "       . glasben\n",
      "       . koncert\n",
      "  . Most correlated bigrams:\n",
      "       . \n",
      "# 'Hrana':\n",
      "  . Most correlated unigrams:\n",
      "       . burger\n",
      "       . chef\n",
      "  . Most correlated bigrams:\n",
      "       . \n",
      "# 'Komedija':\n",
      "  . Most correlated unigrams:\n",
      "       . komik\n",
      "       . perica\n",
      "  . Most correlated bigrams:\n",
      "       . \n",
      "# 'Ostalo':\n",
      "  . Most correlated unigrams:\n",
      "       . sejem\n",
      "       . cityparka\n",
      "  . Most correlated bigrams:\n",
      "       . \n",
      "# 'Umetnost':\n",
      "  . Most correlated unigrams:\n",
      "       . umetnost\n",
      "       . razstava\n",
      "  . Most correlated bigrams:\n",
      "       . \n",
      "# 'Veselica':\n",
      "  . Most correlated unigrams:\n",
      "       . gasilski\n",
      "       . veselica\n",
      "  . Most correlated bigrams:\n",
      "       . \n",
      "# 'Zabava':\n",
      "  . Most correlated unigrams:\n",
      "       . plesen\n",
      "       . dje\n",
      "  . Most correlated bigrams:\n",
      "       . \n",
      "# 'Zdravje':\n",
      "  . Most correlated unigrams:\n",
      "       . odnos\n",
      "       . joga\n",
      "  . Most correlated bigrams:\n",
      "       . \n",
      "# 'Šport':\n",
      "  . Most correlated unigrams:\n",
      "       . tek\n",
      "       . tekma\n",
      "  . Most correlated bigrams:\n",
      "       . \n"
     ]
    }
   ],
   "source": [
    "from sklearn.feature_selection import chi2\n",
    "import numpy as np\n",
    "\n",
    "N = 2\n",
    "for kategorije_nazivi_new, category_id in sorted(category_to_id.items()):\n",
    "  features_chi2 = chi2(features, labels == category_id)\n",
    "  indices = np.argsort(features_chi2[0])\n",
    "  feature_names = np.array(tfidf.get_feature_names())[indices]\n",
    "  unigrams = [v for v in feature_names if len(v.split(' ')) == 1]\n",
    "  bigrams = [v for v in feature_names if len(v.split(' ')) == 2]\n",
    "  print(\"# '{}':\".format(kategorije_nazivi_new))\n",
    "  print(\"  . Most correlated unigrams:\\n       . {}\".format('\\n       . '.join(unigrams[-N:])))\n",
    "  print(\"  . Most correlated bigrams:\\n       . {}\".format('\\n       . '.join(bigrams[-N:])))"
   ]
  },
  {
   "cell_type": "code",
   "execution_count": 12,
   "metadata": {
    "collapsed": true
   },
   "outputs": [],
   "source": [
    "from sklearn.model_selection import train_test_split\n",
    "from sklearn.feature_extraction.text import CountVectorizer\n",
    "from sklearn.feature_extraction.text import TfidfTransformer\n",
    "from sklearn.naive_bayes import MultinomialNB\n",
    "\n",
    "X_train, X_test, y_train, y_test = train_test_split(df['opispp'], df['kategorije_nazivi_new'], random_state = 0)\n",
    "count_vect = CountVectorizer()\n",
    "X_train_counts = count_vect.fit_transform(X_train)\n",
    "tfidf_transformer = TfidfTransformer()\n",
    "X_train_tfidf = tfidf_transformer.fit_transform(X_train_counts)\n",
    "\n",
    "clf = MultinomialNB().fit(X_train_tfidf, y_train)\n",
    "\n"
   ]
  },
  {
   "cell_type": "code",
   "execution_count": 13,
   "metadata": {},
   "outputs": [
    {
     "name": "stdout",
     "output_type": "stream",
     "text": [
      "['Zabava']\n"
     ]
    },
    {
     "data": {
      "text/html": [
       "<div>\n",
       "<style scoped>\n",
       "    .dataframe tbody tr th:only-of-type {\n",
       "        vertical-align: middle;\n",
       "    }\n",
       "\n",
       "    .dataframe tbody tr th {\n",
       "        vertical-align: top;\n",
       "    }\n",
       "\n",
       "    .dataframe thead th {\n",
       "        text-align: right;\n",
       "    }\n",
       "</style>\n",
       "<table border=\"1\" class=\"dataframe\">\n",
       "  <thead>\n",
       "    <tr style=\"text-align: right;\">\n",
       "      <th></th>\n",
       "      <th>kategorije_nazivi_new</th>\n",
       "      <th>opispp</th>\n",
       "      <th>category_id</th>\n",
       "    </tr>\n",
       "  </thead>\n",
       "  <tbody>\n",
       "  </tbody>\n",
       "</table>\n",
       "</div>"
      ],
      "text/plain": [
       "Empty DataFrame\n",
       "Columns: [kategorije_nazivi_new, opispp, category_id]\n",
       "Index: []"
      ]
     },
     "execution_count": 13,
     "metadata": {},
     "output_type": "execute_result"
    }
   ],
   "source": [
    "predictString = \"čas lifa prihajati zvezda vedeti vedeti lifa vroč vedeti super žurer hoditi dom lifa prihajati fantastičen ogrevanje poskrbeti sandy deej vstopnina predprodaja eventimpoštapetrola predprodaja vrata dan dogodek starosten omejitev aga limiti infa vip rezervacija lifediskoteka gmailc lifeklubdomzati\"\n",
    "\n",
    "print(clf.predict(count_vect.transform([predictString])))\n",
    "\n",
    "df[df['opispp'] == predictString]"
   ]
  },
  {
   "cell_type": "code",
   "execution_count": 14,
   "metadata": {},
   "outputs": [],
   "source": [
    "from sklearn.linear_model import LogisticRegression\n",
    "from sklearn.ensemble import RandomForestClassifier\n",
    "from sklearn.naive_bayes import MultinomialNB\n",
    "from sklearn.svm import LinearSVC, SVC\n",
    "from sklearn.dummy import DummyClassifier\n",
    "\n",
    "\n",
    "\n",
    "models = [\n",
    "    LinearSVC(),\n",
    "    SVC(kernel='linear'),\n",
    "    LogisticRegression(random_state=0),\n",
    "    MultinomialNB(),\n",
    "    RandomForestClassifier(n_estimators=200, max_depth=3, random_state=0),\n",
    "    DummyClassifier(strategy='most_frequent'),\n",
    "]\n"
   ]
  },
  {
   "cell_type": "code",
   "execution_count": 20,
   "metadata": {},
   "outputs": [],
   "source": [
    "from sklearn.model_selection import cross_val_score\n",
    "from sklearn.model_selection import StratifiedKFold\n",
    "\n",
    "CV = 5\n",
    "kfold = StratifiedKFold(n_splits=CV, random_state=None, shuffle=True)\n",
    "cv_df = pd.DataFrame(index=range(CV * len(models)))\n",
    "entries = []\n",
    "for model in models:\n",
    "  model_name = model.__class__.__name__\n",
    "  accuracies = cross_val_score(model, features, labels, scoring='accuracy', cv=kfold)\n",
    "  for fold_idx, accuracy in enumerate(accuracies):\n",
    "    entries.append((model_name, fold_idx, accuracy))\n",
    "cv_df = pd.DataFrame(entries, columns=['model_name', 'fold_idx', 'accuracy'])"
   ]
  },
  {
   "cell_type": "code",
   "execution_count": 21,
   "metadata": {},
   "outputs": [
    {
     "data": {
      "image/png": "[encoded data removed]",
      "text/plain": [
       "<Figure size 864x576 with 1 Axes>"
      ]
     },
     "metadata": {
      "needs_background": "light"
     },
     "output_type": "display_data"
    }
   ],
   "source": [
    "import seaborn as sns\n",
    "\n",
    "sns.boxplot(x='model_name', y='accuracy', data=cv_df)\n",
    "sns.stripplot(x='model_name', y='accuracy', data=cv_df, \n",
    "              size=8, jitter=True, edgecolor=\"gray\", linewidth=2)\n",
    "plt.rcParams[\"figure.figsize\"] = (12,8)\n",
    "plt.ylabel('Natančnost napovedi')\n",
    "plt.xlabel('Klasifikator')\n",
    "plt.show()"
   ]
  },
  {
   "cell_type": "code",
   "execution_count": 22,
   "metadata": {},
   "outputs": [
    {
     "data": {
      "text/plain": [
       "model_name\n",
       "DummyClassifier           0.2530\n",
       "LinearSVC                 0.7330\n",
       "LogisticRegression        0.6500\n",
       "MultinomialNB             0.5060\n",
       "RandomForestClassifier    0.4070\n",
       "SVC                       0.7085\n",
       "Name: accuracy, dtype: float64"
      ]
     },
     "execution_count": 22,
     "metadata": {},
     "output_type": "execute_result"
    }
   ],
   "source": [
    "cv_df.groupby('model_name').accuracy.mean()"
   ]
  }
 ],
 "metadata": {
  "interpreter": {
   "hash": "33ca9d9f2b4d79b5147a0bc2130f76ebdbd21f6a0a4e4ff615cfa49eceb115cf"
  },
  "kernelspec": {
   "display_name": "Python 3.9.1 64-bit",
   "name": "python3"
  },
  "language_info": {
   "codemirror_mode": {
    "name": "ipython",
    "version": 3
   },
   "file_extension": ".py",
   "mimetype": "text/x-python",
   "name": "python",
   "nbconvert_exporter": "python",
   "pygments_lexer": "ipython3",
   "version": "3.9.1"
  }
 },
 "nbformat": 4,
 "nbformat_minor": 2
}
