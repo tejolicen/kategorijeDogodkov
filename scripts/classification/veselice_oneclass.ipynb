{
  "cells": [
    {
      "cell_type": "code",
      "execution_count": null,
      "metadata": {
        "collapsed": false
      },
      "outputs": [],
      "source": [
        "%matplotlib inline"
      ]
    },
    {
      "cell_type": "markdown",
      "metadata": {},
      "source": [
        "\n",
        "# One-class SVM with non-linear kernel (RBF)\n",
        "\n",
        "An example using a one-class SVM for novelty detection.\n",
        "\n",
        "`One-class SVM <svm_outlier_detection>` is an unsupervised\n",
        "algorithm that learns a decision function for novelty detection:\n",
        "classifying new data as similar or different to the training set.\n"
      ]
    },
    {
      "cell_type": "code",
      "execution_count": 2,
      "metadata": {
        "collapsed": false
      },
      "outputs": [
        {
          "output_type": "stream",
          "name": "stdout",
          "text": [
            "veselice count: 32, neznane count: 2947\n[-1 -1 -1 -1 -1 -1 -1 -1 -1 -1 -1]\n"
          ]
        }
      ],
      "source": [
        "\n",
        "from sklearn import svm\n",
        "from sklearn.datasets import fetch_20newsgroups\n",
        "from sklearn.feature_extraction.text import TfidfVectorizer\n",
        "import pandas as pd\n",
        "import os\n",
        "\n",
        "__file__ = os.getcwd()\n",
        "dirname = os.path.dirname(__file__)\n",
        "input_file = os.path.join(dirname, 'data\\\\dogodki50_spucano_glavnekategorije.csv')\n",
        "df = pd.read_csv(input_file, header = 0)\n",
        "\n",
        "dfVeselice = df.loc[df['veselica'] == 1]\n",
        "dfNeznane = df.loc[df['veselica'] == 0]\n",
        "\n",
        "print('veselice count: ' + str(len(dfVeselice)) + ', neznane count: ' + str(len(dfNeznane)))\n",
        "\n",
        "vectorizer = TfidfVectorizer()\n",
        "train_vectors = vectorizer.fit_transform(dfVeselice)\n",
        "test_vectors = vectorizer.transform(dfNeznane)\n",
        "\n",
        "model = svm.OneClassSVM(gamma='auto')\n",
        "model.fit(train_vectors)\n",
        "\n",
        "test_predictions = model.predict(test_vectors)\n",
        "\n",
        "print(test_predictions)\n",
        "\n",
        "# train = fetch_20newsgroups(subset='train', categories=['alt.atheism'], shuffle=True, random_state=42).data\n",
        "# test =  fetch_20newsgroups(subset='train', categories=['alt.atheism', 'soc.religion.christian'], shuffle=True, random_state=42).data\n",
        "\n",
        "# vectorizer = TfidfVectorizer()\n",
        "# train_vectors = vectorizer.fit_transform(train)\n",
        "# test_vectors = vectorizer.transform(test)\n",
        "\n",
        "# model = svm.OneClassSVM(gamma='auto')\n",
        "# model.fit(train_vectors)\n",
        "\n",
        "# test_predictions = model.predict(test_vectors)"
      ]
    },
    {
      "cell_type": "code",
      "execution_count": null,
      "metadata": {},
      "outputs": [],
      "source": []
    }
  ],
  "metadata": {
    "kernelspec": {
      "name": "python3",
      "display_name": "Python 3.9.1 64-bit",
      "metadata": {
        "interpreter": {
          "hash": "33ca9d9f2b4d79b5147a0bc2130f76ebdbd21f6a0a4e4ff615cfa49eceb115cf"
        }
      }
    },
    "language_info": {
      "codemirror_mode": {
        "name": "ipython",
        "version": 3
      },
      "file_extension": ".py",
      "mimetype": "text/x-python",
      "name": "python",
      "nbconvert_exporter": "python",
      "pygments_lexer": "ipython3",
      "version": "3.9.1-final"
    }
  },
  "nbformat": 4,
  "nbformat_minor": 0
}